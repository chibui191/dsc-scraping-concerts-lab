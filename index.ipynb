{
 "cells": [
  {
   "cell_type": "markdown",
   "metadata": {},
   "source": [
    "# Scraping Concerts - Lab\n",
    "\n",
    "## Introduction\n",
    "\n",
    "Now that you've seen how to scrape a simple website, it's time to again practice those skills on a full-fledged site!\n",
    "In this lab, you'll practice your scraping skills on a music website: https://www.residentadvisor.net.\n",
    "## Objectives\n",
    "\n",
    "You will be able to:\n",
    "* Create a full scraping pipeline that involves traversing over many pages of a website, dealing with errors and storing data"
   ]
  },
  {
   "cell_type": "markdown",
   "metadata": {},
   "source": [
    "## View the Website\n",
    "\n",
    "For this lab, you'll be scraping the https://www.residentadvisor.net website. Start by navigating to the events page [here](https://www.residentadvisor.net/events) in your browser.\n",
    "\n",
    "<img src=\"images/ra.png\">"
   ]
  },
  {
   "cell_type": "code",
   "execution_count": null,
   "metadata": {},
   "outputs": [],
   "source": [
    "# Load the https://www.residentadvisor.net/events page in your browser."
   ]
  },
  {
   "cell_type": "markdown",
   "metadata": {},
   "source": [
    "## Open the Inspect Element Feature\n",
    "\n",
    "Next, open the inspect element feature from your web browser in order to preview the underlying HTML associated with the page."
   ]
  },
  {
   "cell_type": "code",
   "execution_count": null,
   "metadata": {},
   "outputs": [],
   "source": [
    "# Open the inspect element feature in your browser"
   ]
  },
  {
   "cell_type": "markdown",
   "metadata": {},
   "source": [
    "## Write a Function to Scrape all of the Events on the Given Page Events Page\n",
    "\n",
    "The function should return a Pandas DataFrame with columns for the Event_Name, Venue, Event_Date and Number_of_Attendees."
   ]
  },
  {
   "cell_type": "code",
   "execution_count": 1,
   "metadata": {},
   "outputs": [],
   "source": [
    "from bs4 import BeautifulSoup\n",
    "import requests\n",
    "import pandas as pd\n",
    "import numpy as np"
   ]
  },
  {
   "cell_type": "code",
   "execution_count": 2,
   "metadata": {},
   "outputs": [],
   "source": [
    "def scrape_events(url):\n",
    "    html = requests.get(url)\n",
    "    soup = BeautifulSoup(html.content, 'html.parser')\n",
    "    \n",
    "    rows = []\n",
    "    lis = soup.find('div', id='event-listing').findAll('li')\n",
    "\n",
    "    for li in lis:\n",
    "        date = li.find('p', class_='eventDate')\n",
    "        event = li.find('h1', class_='event-title')\n",
    "        if event:\n",
    "            name = event.text.split(' at ')[0]\n",
    "            venue = event.text.split(' at ')[1]\n",
    "            date = current_date\n",
    "            attend = event.parent.find('p', class_='attending')\n",
    "            if attend:\n",
    "                attending = int(attend.text.split()[0])\n",
    "            else:\n",
    "                attending = np.nan\n",
    "            rows.append([name, venue, date, attending])\n",
    "        elif date:\n",
    "            current_date = date.text[:-2]\n",
    "\n",
    "    df = pd.DataFrame(rows)\n",
    "    df.columns = [\"Event_Name\", \"Venue\", \"Event_Date\", \"Number_of_Attendees\"]\n",
    "    return df"
   ]
  },
  {
   "cell_type": "code",
   "execution_count": 3,
   "metadata": {},
   "outputs": [
    {
     "data": {
      "text/html": [
       "<div>\n",
       "<style scoped>\n",
       "    .dataframe tbody tr th:only-of-type {\n",
       "        vertical-align: middle;\n",
       "    }\n",
       "\n",
       "    .dataframe tbody tr th {\n",
       "        vertical-align: top;\n",
       "    }\n",
       "\n",
       "    .dataframe thead th {\n",
       "        text-align: right;\n",
       "    }\n",
       "</style>\n",
       "<table border=\"1\" class=\"dataframe\">\n",
       "  <thead>\n",
       "    <tr style=\"text-align: right;\">\n",
       "      <th></th>\n",
       "      <th>Event_Name</th>\n",
       "      <th>Venue</th>\n",
       "      <th>Event_Date</th>\n",
       "      <th>Number_of_Attendees</th>\n",
       "    </tr>\n",
       "  </thead>\n",
       "  <tbody>\n",
       "    <tr>\n",
       "      <th>0</th>\n",
       "      <td>Tripping Project presents: Chad Andrew &amp; AMO</td>\n",
       "      <td>TBA - Miami, Miami</td>\n",
       "      <td>Sun, 20 Dec 2020</td>\n",
       "      <td>7.0</td>\n",
       "    </tr>\n",
       "    <tr>\n",
       "      <th>1</th>\n",
       "      <td>Sundeep Sundayz</td>\n",
       "      <td>Sit On The Furniture</td>\n",
       "      <td>Sun, 20 Dec 2020</td>\n",
       "      <td>3.0</td>\n",
       "    </tr>\n",
       "    <tr>\n",
       "      <th>2</th>\n",
       "      <td>Sunsets</td>\n",
       "      <td>Treehouse Miami, Miami</td>\n",
       "      <td>Sun, 20 Dec 2020</td>\n",
       "      <td>1.0</td>\n",
       "    </tr>\n",
       "    <tr>\n",
       "      <th>3</th>\n",
       "      <td>undr:wtr presents Roger Sanchez</td>\n",
       "      <td>WTR</td>\n",
       "      <td>Sun, 20 Dec 2020</td>\n",
       "      <td>4.0</td>\n",
       "    </tr>\n",
       "    <tr>\n",
       "      <th>4</th>\n",
       "      <td>Wax and Wane 15 - the Sunday Before Christmas</td>\n",
       "      <td>Grumpy's Underground Lounge, Orlando</td>\n",
       "      <td>Sun, 20 Dec 2020</td>\n",
       "      <td>NaN</td>\n",
       "    </tr>\n",
       "    <tr>\n",
       "      <th>5</th>\n",
       "      <td>undr:wtr presents Roger Sanchez</td>\n",
       "      <td>WTR</td>\n",
       "      <td>Mon, 21 Dec 2020</td>\n",
       "      <td>4.0</td>\n",
       "    </tr>\n",
       "    <tr>\n",
       "      <th>6</th>\n",
       "      <td>Sit On The Furniture ft Archila / Octa Digio/ ...</td>\n",
       "      <td>Do Not Sit On The Furniture, Miami</td>\n",
       "      <td>Wed, 23 Dec 2020</td>\n",
       "      <td>3.0</td>\n",
       "    </tr>\n",
       "    <tr>\n",
       "      <th>7</th>\n",
       "      <td>Leilaxmarek</td>\n",
       "      <td>Sit On The Furniture</td>\n",
       "      <td>Thu, 24 Dec 2020</td>\n",
       "      <td>3.0</td>\n",
       "    </tr>\n",
       "    <tr>\n",
       "      <th>8</th>\n",
       "      <td>SIS</td>\n",
       "      <td>Sit On The Furniture</td>\n",
       "      <td>Fri, 25 Dec 2020</td>\n",
       "      <td>4.0</td>\n",
       "    </tr>\n",
       "    <tr>\n",
       "      <th>9</th>\n",
       "      <td>Sunsets with Dombresky</td>\n",
       "      <td>Treehouse Miami, Miami</td>\n",
       "      <td>Fri, 25 Dec 2020</td>\n",
       "      <td>2.0</td>\n",
       "    </tr>\n",
       "    <tr>\n",
       "      <th>10</th>\n",
       "      <td>Robbie Rivera</td>\n",
       "      <td>Myth</td>\n",
       "      <td>Fri, 25 Dec 2020</td>\n",
       "      <td>NaN</td>\n",
       "    </tr>\n",
       "    <tr>\n",
       "      <th>11</th>\n",
       "      <td>Sunsets with Dombresky</td>\n",
       "      <td>Treehouse Miami, Miami</td>\n",
       "      <td>Sat, 26 Dec 2020</td>\n",
       "      <td>2.0</td>\n",
       "    </tr>\n",
       "    <tr>\n",
       "      <th>12</th>\n",
       "      <td>Spazio presents: DJ Chus, Salvatore, German Ga...</td>\n",
       "      <td>Spazio Lounge</td>\n",
       "      <td>Sat, 26 Dec 2020</td>\n",
       "      <td>1.0</td>\n",
       "    </tr>\n",
       "    <tr>\n",
       "      <th>13</th>\n",
       "      <td>Santiago Garcia [Saga]</td>\n",
       "      <td>Sit On The Furniture</td>\n",
       "      <td>Sat, 26 Dec 2020</td>\n",
       "      <td>1.0</td>\n",
       "    </tr>\n",
       "    <tr>\n",
       "      <th>14</th>\n",
       "      <td>Two and a Half Cats Festival</td>\n",
       "      <td>Subtropical Garden, Miami</td>\n",
       "      <td>Sat, 26 Dec 2020</td>\n",
       "      <td>2.0</td>\n",
       "    </tr>\n",
       "  </tbody>\n",
       "</table>\n",
       "</div>"
      ],
      "text/plain": [
       "                                           Event_Name  \\\n",
       "0        Tripping Project presents: Chad Andrew & AMO   \n",
       "1                                     Sundeep Sundayz   \n",
       "2                                             Sunsets   \n",
       "3                     undr:wtr presents Roger Sanchez   \n",
       "4       Wax and Wane 15 - the Sunday Before Christmas   \n",
       "5                     undr:wtr presents Roger Sanchez   \n",
       "6   Sit On The Furniture ft Archila / Octa Digio/ ...   \n",
       "7                                         Leilaxmarek   \n",
       "8                                                 SIS   \n",
       "9                              Sunsets with Dombresky   \n",
       "10                                      Robbie Rivera   \n",
       "11                             Sunsets with Dombresky   \n",
       "12  Spazio presents: DJ Chus, Salvatore, German Ga...   \n",
       "13                             Santiago Garcia [Saga]   \n",
       "14                       Two and a Half Cats Festival   \n",
       "\n",
       "                                   Venue        Event_Date  \\\n",
       "0                     TBA - Miami, Miami  Sun, 20 Dec 2020   \n",
       "1                   Sit On The Furniture  Sun, 20 Dec 2020   \n",
       "2                 Treehouse Miami, Miami  Sun, 20 Dec 2020   \n",
       "3                                    WTR  Sun, 20 Dec 2020   \n",
       "4   Grumpy's Underground Lounge, Orlando  Sun, 20 Dec 2020   \n",
       "5                                    WTR  Mon, 21 Dec 2020   \n",
       "6     Do Not Sit On The Furniture, Miami  Wed, 23 Dec 2020   \n",
       "7                   Sit On The Furniture  Thu, 24 Dec 2020   \n",
       "8                   Sit On The Furniture  Fri, 25 Dec 2020   \n",
       "9                 Treehouse Miami, Miami  Fri, 25 Dec 2020   \n",
       "10                                  Myth  Fri, 25 Dec 2020   \n",
       "11                Treehouse Miami, Miami  Sat, 26 Dec 2020   \n",
       "12                         Spazio Lounge  Sat, 26 Dec 2020   \n",
       "13                  Sit On The Furniture  Sat, 26 Dec 2020   \n",
       "14             Subtropical Garden, Miami  Sat, 26 Dec 2020   \n",
       "\n",
       "    Number_of_Attendees  \n",
       "0                   7.0  \n",
       "1                   3.0  \n",
       "2                   1.0  \n",
       "3                   4.0  \n",
       "4                   NaN  \n",
       "5                   4.0  \n",
       "6                   3.0  \n",
       "7                   3.0  \n",
       "8                   4.0  \n",
       "9                   2.0  \n",
       "10                  NaN  \n",
       "11                  2.0  \n",
       "12                  1.0  \n",
       "13                  1.0  \n",
       "14                  2.0  "
      ]
     },
     "execution_count": 3,
     "metadata": {},
     "output_type": "execute_result"
    }
   ],
   "source": [
    "scrape_events('https://www.residentadvisor.net/events/us/florida')"
   ]
  },
  {
   "cell_type": "markdown",
   "metadata": {},
   "source": [
    "## Write a Function to Retrieve the URL for the Next Page"
   ]
  },
  {
   "cell_type": "code",
   "execution_count": 20,
   "metadata": {},
   "outputs": [],
   "source": [
    "def next_page(url):\n",
    "    #Your code here\n",
    "    url_base = \"https://www.residentadvisor.net\"\n",
    "    html = requests.get(url)\n",
    "    soup = BeautifulSoup(html.content, 'html.parser')\n",
    "    \n",
    "    next_btn = soup.findAll('li', id=\"liNext2\")\n",
    "    next_page_ext = ''\n",
    "    if next_btn:\n",
    "        next_page_ext += next_btn[0].find('a').attrs.get('href')\n",
    "        \n",
    "    next_page_url = url_base + next_page_ext\n",
    "    return next_page_url"
   ]
  },
  {
   "cell_type": "code",
   "execution_count": 21,
   "metadata": {},
   "outputs": [
    {
     "data": {
      "text/plain": [
       "'https://www.residentadvisor.net/events/us/florida/week/2020-12-27'"
      ]
     },
     "execution_count": 21,
     "metadata": {},
     "output_type": "execute_result"
    }
   ],
   "source": [
    "next_page('https://www.residentadvisor.net/events/us/florida')"
   ]
  },
  {
   "cell_type": "markdown",
   "metadata": {},
   "source": [
    "## Scrape the Next 1000 Events for Your Area\n",
    "\n",
    "Display the data sorted by the number of attendees. If there is a tie for the number attending, sort by event date."
   ]
  },
  {
   "cell_type": "code",
   "execution_count": 22,
   "metadata": {},
   "outputs": [],
   "source": [
    "#Your code here\n",
    "def scrape_1000_events(url):\n",
    "    df = scrape_events(url)\n",
    "    event_count = len(df)\n",
    "    while event_count <= 1000:\n",
    "        next_url = next_page(url)\n",
    "        df_next = scrape_events(next_url)\n",
    "        event_count += len(df_next)\n",
    "        df = pd.concat([df, df_next], ignore_index=True)\n",
    "    return df[:1000]"
   ]
  },
  {
   "cell_type": "code",
   "execution_count": 23,
   "metadata": {},
   "outputs": [
    {
     "data": {
      "text/html": [
       "<div>\n",
       "<style scoped>\n",
       "    .dataframe tbody tr th:only-of-type {\n",
       "        vertical-align: middle;\n",
       "    }\n",
       "\n",
       "    .dataframe tbody tr th {\n",
       "        vertical-align: top;\n",
       "    }\n",
       "\n",
       "    .dataframe thead th {\n",
       "        text-align: right;\n",
       "    }\n",
       "</style>\n",
       "<table border=\"1\" class=\"dataframe\">\n",
       "  <thead>\n",
       "    <tr style=\"text-align: right;\">\n",
       "      <th></th>\n",
       "      <th>Event_Name</th>\n",
       "      <th>Venue</th>\n",
       "      <th>Event_Date</th>\n",
       "      <th>Number_of_Attendees</th>\n",
       "    </tr>\n",
       "  </thead>\n",
       "  <tbody>\n",
       "    <tr>\n",
       "      <th>0</th>\n",
       "      <td>Tripping Project presents: Chad Andrew &amp; AMO</td>\n",
       "      <td>TBA - Miami, Miami</td>\n",
       "      <td>Sun, 20 Dec 2020</td>\n",
       "      <td>7.0</td>\n",
       "    </tr>\n",
       "    <tr>\n",
       "      <th>1</th>\n",
       "      <td>Sundeep Sundayz</td>\n",
       "      <td>Sit On The Furniture</td>\n",
       "      <td>Sun, 20 Dec 2020</td>\n",
       "      <td>3.0</td>\n",
       "    </tr>\n",
       "    <tr>\n",
       "      <th>2</th>\n",
       "      <td>Sunsets</td>\n",
       "      <td>Treehouse Miami, Miami</td>\n",
       "      <td>Sun, 20 Dec 2020</td>\n",
       "      <td>1.0</td>\n",
       "    </tr>\n",
       "    <tr>\n",
       "      <th>3</th>\n",
       "      <td>undr:wtr presents Roger Sanchez</td>\n",
       "      <td>WTR</td>\n",
       "      <td>Sun, 20 Dec 2020</td>\n",
       "      <td>4.0</td>\n",
       "    </tr>\n",
       "    <tr>\n",
       "      <th>4</th>\n",
       "      <td>Wax and Wane 15 - the Sunday Before Christmas</td>\n",
       "      <td>Grumpy's Underground Lounge, Orlando</td>\n",
       "      <td>Sun, 20 Dec 2020</td>\n",
       "      <td>NaN</td>\n",
       "    </tr>\n",
       "  </tbody>\n",
       "</table>\n",
       "</div>"
      ],
      "text/plain": [
       "                                      Event_Name  \\\n",
       "0   Tripping Project presents: Chad Andrew & AMO   \n",
       "1                                Sundeep Sundayz   \n",
       "2                                        Sunsets   \n",
       "3                undr:wtr presents Roger Sanchez   \n",
       "4  Wax and Wane 15 - the Sunday Before Christmas   \n",
       "\n",
       "                                  Venue        Event_Date  Number_of_Attendees  \n",
       "0                    TBA - Miami, Miami  Sun, 20 Dec 2020                  7.0  \n",
       "1                  Sit On The Furniture  Sun, 20 Dec 2020                  3.0  \n",
       "2                Treehouse Miami, Miami  Sun, 20 Dec 2020                  1.0  \n",
       "3                                   WTR  Sun, 20 Dec 2020                  4.0  \n",
       "4  Grumpy's Underground Lounge, Orlando  Sun, 20 Dec 2020                  NaN  "
      ]
     },
     "execution_count": 23,
     "metadata": {},
     "output_type": "execute_result"
    }
   ],
   "source": [
    "url = 'https://www.residentadvisor.net/events/us/florida'\n",
    "scrape_1000_events(url).head()"
   ]
  },
  {
   "cell_type": "markdown",
   "metadata": {},
   "source": [
    "## Summary \n",
    "\n",
    "Congratulations! In this lab, you successfully developed a pipeline to scrape a website for concert event information!"
   ]
  }
 ],
 "metadata": {
  "kernelspec": {
   "display_name": "Python 3",
   "language": "python",
   "name": "python3"
  },
  "language_info": {
   "codemirror_mode": {
    "name": "ipython",
    "version": 3
   },
   "file_extension": ".py",
   "mimetype": "text/x-python",
   "name": "python",
   "nbconvert_exporter": "python",
   "pygments_lexer": "ipython3",
   "version": "3.8.5"
  }
 },
 "nbformat": 4,
 "nbformat_minor": 2
}
